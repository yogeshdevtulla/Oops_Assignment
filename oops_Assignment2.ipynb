{
 "cells": [
  {
   "cell_type": "markdown",
   "metadata": {},
   "source": [
    "Q1, Create a vehicle class with an init method having instance variables as name_of_vehicle, max_speed\n",
    "and average_of_vehicle."
   ]
  },
  {
   "cell_type": "code",
   "execution_count": 6,
   "metadata": {},
   "outputs": [],
   "source": [
    "class vehicle:\n",
    "    def __init__(self,name_of_vehicle, max_speed,average_of_vehicle):\n",
    "        self.name_of_vehicle=name_of_vehicle\n",
    "        self.max_speed=max_speed\n",
    "        self.average_of_vehicle=average_of_vehicle\n",
    "    \n",
    "    def display(self):\n",
    "        return(self.name_of_vehicle,self.max_speed,self.average_of_vehicle)"
   ]
  },
  {
   "cell_type": "code",
   "execution_count": 7,
   "metadata": {},
   "outputs": [
    {
     "data": {
      "text/plain": [
       "('car', 25, 10)"
      ]
     },
     "execution_count": 7,
     "metadata": {},
     "output_type": "execute_result"
    }
   ],
   "source": [
    "car=vehicle('car',25,10)\n",
    "car.display()"
   ]
  },
  {
   "cell_type": "markdown",
   "metadata": {},
   "source": [
    "Q2. Create a child class car from the vehicle class created in Que 1, which will inherit the vehicle class.\n",
    "Create a method named seating_capacity which takes capacity as an argument and returns the name of\n",
    "the vehicle and its seating capacity."
   ]
  },
  {
   "cell_type": "code",
   "execution_count": 9,
   "metadata": {},
   "outputs": [
    {
     "data": {
      "text/plain": [
       "('bike', 5)"
      ]
     },
     "execution_count": 9,
     "metadata": {},
     "output_type": "execute_result"
    }
   ],
   "source": [
    "class car(vehicle):\n",
    "    def seating_capacity(self,capacity):\n",
    "        return (self.name_of_vehicle,capacity)\n",
    "\n",
    "c=car('bike',25,10)\n",
    "c.seating_capacity(5)\n",
    "        "
   ]
  },
  {
   "cell_type": "markdown",
   "metadata": {},
   "source": [
    "Q3. What is multiple inheritance? Write a python code to demonstrate multiple inheritance.\n",
    "\n",
    "More than one parrent class propertoes are inheited in child class.\n"
   ]
  },
  {
   "cell_type": "code",
   "execution_count": 12,
   "metadata": {},
   "outputs": [
    {
     "data": {
      "text/plain": [
       "'class1test1'"
      ]
     },
     "execution_count": 12,
     "metadata": {},
     "output_type": "execute_result"
    }
   ],
   "source": [
    "class class1():\n",
    "    def c1t1(self):\n",
    "        return(\"class1test1\")\n",
    "    def c1t2(self):\n",
    "        return(\"class1test2\")\n",
    "class class2():\n",
    "    def c2t1(self):\n",
    "        return(\"class2test1\")\n",
    "    def c2t2(self):\n",
    "        return(\"class2test2\")\n",
    "class class3(class1, class2):\n",
    "    def c3t1(self):\n",
    "        return(\"class3test1\")\n",
    "    def c3t2(self):\n",
    "        return(\"class3test2\")\n",
    "dev=class3()  \n",
    "dev.c1t1()\n",
    "\n"
   ]
  },
  {
   "cell_type": "code",
   "execution_count": 13,
   "metadata": {},
   "outputs": [
    {
     "data": {
      "text/plain": [
       "'class2test2'"
      ]
     },
     "execution_count": 13,
     "metadata": {},
     "output_type": "execute_result"
    }
   ],
   "source": [
    "dev.c2t2()\n"
   ]
  },
  {
   "cell_type": "code",
   "execution_count": 15,
   "metadata": {},
   "outputs": [
    {
     "data": {
      "text/plain": [
       "'class3test1'"
      ]
     },
     "execution_count": 15,
     "metadata": {},
     "output_type": "execute_result"
    }
   ],
   "source": [
    "dev.c3t1()"
   ]
  },
  {
   "cell_type": "markdown",
   "metadata": {},
   "source": [
    "Q4. What are getter and setter in python? Create a class and create a getter and a setter method in this\n",
    "class."
   ]
  },
  {
   "cell_type": "markdown",
   "metadata": {},
   "source": [
    "We use getters & setters to getting and setting a value.\n",
    "To avoid direct access of a class field i.e. private variables cannot be accessed directly or modified by external user."
   ]
  },
  {
   "cell_type": "code",
   "execution_count": 16,
   "metadata": {},
   "outputs": [
    {
     "name": "stdout",
     "output_type": "stream",
     "text": [
      "True\n",
      "3000\n"
     ]
    }
   ],
   "source": [
    "class bankaccount():\n",
    "    def __init__(self,balance):\n",
    "        self.__balance=balance\n",
    "    def deposit(self,amount):                   #setter function (Using this function to set the value indirectly)\n",
    "        self.__balance=self.__balance+amount\n",
    "    def withdraw(self,amount):                  #setter function (Using this function to set the value by chceking some condition)\n",
    "        if amount<=self.__balance:\n",
    "            self.__balance=self.__balance-amount\n",
    "            return True\n",
    "        else:\n",
    "            return False\n",
    "\n",
    "    def get_balance(self):\n",
    "        print( self.__balance)     #getter function (using this function to get the value )\n",
    "    \n",
    "yogesh=bankaccount(5000)\n",
    "yogesh.deposit(3000)\n",
    "\n",
    "print(yogesh.withdraw(5000))\n",
    "yogesh.get_balance()"
   ]
  },
  {
   "cell_type": "markdown",
   "metadata": {},
   "source": [
    "Q5.What is method overriding in python? Write a python code to demonstrate method overriding.\n",
    "\n",
    "Method overriding is an ability of any OOps language that allows a child class to provide a specific implementation of a method that is already provided by one of its parent classes. \n",
    "\n",
    "When a method in a child class has the same name, same parameters and same return type as a method in its parrent class, then the method in the child class is said to override the method in the parrent class.\n"
   ]
  },
  {
   "cell_type": "code",
   "execution_count": 17,
   "metadata": {},
   "outputs": [
    {
     "name": "stdout",
     "output_type": "stream",
     "text": [
      "syllabus for datascience\n",
      "syllabus for web developer\n"
     ]
    }
   ],
   "source": [
    "class datascience():\n",
    "    def syllabus(self):\n",
    "        print(\"syllabus for datascience\")\n",
    "class webdeveloper(datascience):\n",
    "    def syllabus(self):\n",
    "        print(\"syllabus for web developer\")\n",
    "\n",
    "data_science=datascience()\n",
    "web_dev=webdeveloper()\n",
    "\n",
    "data_science.syllabus()\n",
    "web_dev.syllabus()"
   ]
  },
  {
   "cell_type": "code",
   "execution_count": null,
   "metadata": {},
   "outputs": [],
   "source": []
  }
 ],
 "metadata": {
  "kernelspec": {
   "display_name": "Python 3",
   "language": "python",
   "name": "python3"
  },
  "language_info": {
   "codemirror_mode": {
    "name": "ipython",
    "version": 3
   },
   "file_extension": ".py",
   "mimetype": "text/x-python",
   "name": "python",
   "nbconvert_exporter": "python",
   "pygments_lexer": "ipython3",
   "version": "3.11.7"
  }
 },
 "nbformat": 4,
 "nbformat_minor": 2
}
