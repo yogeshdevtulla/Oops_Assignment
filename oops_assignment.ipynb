{
 "cells": [
  {
   "cell_type": "markdown",
   "metadata": {},
   "source": [
    "Q1. Explain Class and Object with respect to Object-Oriented Programming. Give a suitable example.\n",
    "\n",
    "**class**\n",
    "\n",
    "class are the blueprint of a realworld entity not specific to that entity.we use Class keywoed to define class in python \n",
    "\n",
    "\n",
    "example:\n",
    "for example if in a vegetable shop i command you to pic a vegetable You will understand the meaning of vegetable but you won't be able to specify which specific vegetable i'm referring similar the class, we only specify common properties not to be specific.\n",
    "\n",
    "**Object**\n",
    "\n",
    "Object unknown as real world entity or instance of real world entity it can be variable.\n"
   ]
  },
  {
   "cell_type": "code",
   "execution_count": 1,
   "metadata": {},
   "outputs": [],
   "source": [
    "class vegetable:\n",
    "    def __init__(self):\n",
    "        pass\n",
    "\n",
    "potato=vegetable()"
   ]
  },
  {
   "cell_type": "markdown",
   "metadata": {},
   "source": [
    "Q2. Name the four pillars of OOPs."
   ]
  },
  {
   "cell_type": "markdown",
   "metadata": {},
   "source": [
    "**Four Pillars of OOPs are:**\n",
    "1. Inheritance\n",
    "2. Polymorphism\n",
    "3. Abstraction\n",
    "4. Encapsulation"
   ]
  },
  {
   "cell_type": "markdown",
   "metadata": {},
   "source": [
    "Q3. Explain why the __init__() function is used. Give a suitable example."
   ]
  },
  {
   "cell_type": "markdown",
   "metadata": {},
   "source": [
    "**init()**\n",
    "\n",
    "init function is also known as constructor .\n",
    "\n",
    "it is used to pass the value in class. The init function runs automatically with being called in the class.\n"
   ]
  },
  {
   "cell_type": "markdown",
   "metadata": {},
   "source": [
    "Q4. Why self is used in OOPs?\n",
    "\n",
    "self is not a reserved keyword in python. you can use any keyword in place of self but have to use any word,because\n",
    "When working with classes in Python, the term “self” refers to the instance of the class that is currently being used. It is customary to use “self” as the first parameter in instance methods of a class. Whenever you call a method of an object created from a class, the object is automatically passed as the first argument using the “self” parameter. This enables you to modify the object’s properties and execute tasks unique to that particular instance."
   ]
  },
  {
   "cell_type": "markdown",
   "metadata": {},
   "source": [
    "Q5. What is inheritance? Give an example for each type of inheritance.\n",
    "\n",
    "**Inheritance**\n",
    "inheritance menas inheriting the properties of parrent class in the child class. This reduced the complexity of a code and also reduce the rewrite of the same method again and again. with the help of inheritance one can invoke the method of one class into other class by inheriting the base class.\n",
    "\n",
    "**Types Of Inheritance**\n",
    "1. Multiple Inheritance\n",
    "2. Multilevel Inheritance\n",
    "3. Heirarchy Inheritance\n",
    "4. Hybrid Inheritance"
   ]
  },
  {
   "cell_type": "markdown",
   "metadata": {},
   "source": [
    "Multilevel Inherutance\n",
    "\n",
    "Example\n",
    "\n",
    "\n",
    "You have a properties of your parents and your parents have the properties of thoer parents. indirectly you have the properties of your grand parrents.\n"
   ]
  },
  {
   "cell_type": "markdown",
   "metadata": {},
   "source": [
    "Multiple Inheritance\n",
    "\n",
    "Example\n",
    "\n",
    "Your father has differnt properties and your mother have differnt properties but you have the properties of both father and mother."
   ]
  },
  {
   "cell_type": "markdown",
   "metadata": {},
   "source": [
    "Hierarchy Inheritance\n",
    "\n",
    "Example\n",
    "\n",
    "You , your brother and Your sister all have the same properties of your parents"
   ]
  },
  {
   "cell_type": "markdown",
   "metadata": {},
   "source": [
    "Hybrid Inheritance: \n",
    "\n",
    "\n",
    "Inheritance consisting of multiple types of inheritance is called hybrid inheritance."
   ]
  }
 ],
 "metadata": {
  "kernelspec": {
   "display_name": "Python 3",
   "language": "python",
   "name": "python3"
  },
  "language_info": {
   "codemirror_mode": {
    "name": "ipython",
    "version": 3
   },
   "file_extension": ".py",
   "mimetype": "text/x-python",
   "name": "python",
   "nbconvert_exporter": "python",
   "pygments_lexer": "ipython3",
   "version": "3.11.7"
  }
 },
 "nbformat": 4,
 "nbformat_minor": 2
}
