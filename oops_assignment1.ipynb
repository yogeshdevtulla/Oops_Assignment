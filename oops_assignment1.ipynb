{
 "cells": [
  {
   "cell_type": "markdown",
   "metadata": {},
   "source": [
    "Q1. What is Abstraction in OOps? Explain with an example.\n"
   ]
  },
  {
   "cell_type": "markdown",
   "metadata": {},
   "source": [
    "\n",
    "\n",
    "Abstraction means hiding the irrelevant information and showing the essential informationt to the user.\n",
    "\n",
    "It is also used in creating skeleton of the code and that can be used in the program using inheritance(inheriting the class).For performing Abstraction we have to import abc and have to use decorator like abstractmethod.\n",
    "\n",
    "example:\n",
    "\n",
    "A car has an accelerator, clutch, and break and pressing an accelerator will increase the speed and applying the brake can stop the car but we don’t the internal mechanism of the car and how these functionalities can work this is known as data abstraction."
   ]
  },
  {
   "cell_type": "markdown",
   "metadata": {},
   "source": [
    "Q2. Differentiate between Abstraction and Encapsulation. Explain with an example.\n"
   ]
  },
  {
   "cell_type": "markdown",
   "metadata": {},
   "source": [
    "**Abstraction**\n",
    "\n",
    "Abstraction means hiding the irrelevant information and showing the essential informationt to the user.\n",
    "\n",
    "It is also used in creating skeleton of the code and that can be used in the program using inheritance(inheriting the class).For performing Abstraction we have to import abc and have to use decorator like abstractmethod.\n",
    "\n"
   ]
  },
  {
   "cell_type": "code",
   "execution_count": 6,
   "metadata": {},
   "outputs": [
    {
     "name": "stdout",
     "output_type": "stream",
     "text": [
      "model:  od\n",
      "Year:  2023\n",
      "color:  yellow\n"
     ]
    }
   ],
   "source": [
    "# example\n",
    "import abc\n",
    "class car:\n",
    "    def __init__(self,model,color,year):\n",
    "        self.model=model\n",
    "        self.color=color\n",
    "        self.year=year\n",
    "    @abc.abstractmethod\n",
    "    def details(self):\n",
    "        pass\n",
    "    @abc.abstractmethod\n",
    "    def function(self):\n",
    "        pass\n",
    "class od(car):\n",
    "    def details(self):\n",
    "        print (\"model: \",self.model)\n",
    "        print(\"Year: \",self.year)\n",
    "        print(\"color: \",self.color)\n",
    "    def function(self):\n",
    "        return \"Open Roof\"\n",
    "od1=od(\"od\",\"yellow\",\"2023\")\n",
    "od1.details()\n",
    "\n",
    "\n"
   ]
  },
  {
   "cell_type": "markdown",
   "metadata": {},
   "source": [
    "**Encapsulation**\n",
    "\n",
    "It mean wrapping data methods and variable in a single unit.\n",
    "\n",
    "\n",
    "class is the best example of encapsulation.\n",
    "\n",
    "\n",
    "Here in encapsulation we put restriction on user access thus help the data from updation,modification. we use \"__\" double underscore in front of variable under init method."
   ]
  },
  {
   "cell_type": "code",
   "execution_count": 7,
   "metadata": {},
   "outputs": [
    {
     "name": "stdout",
     "output_type": "stream",
     "text": [
      "True\n",
      "3000\n"
     ]
    }
   ],
   "source": [
    "class bankaccount():\n",
    "    def __init__(self,balance):\n",
    "        self.__balance=balance\n",
    "    def deposit(self,amount):\n",
    "        self.__balance=self.__balance+amount\n",
    "    def withdraw(self,amount):\n",
    "        if amount<=self.__balance:\n",
    "            self.__balance=self.__balance-amount\n",
    "            return True\n",
    "        else:\n",
    "            return False\n",
    "\n",
    "    def get_balance(self):\n",
    "        print( self.__balance)\n",
    "    \n",
    "yogesh=bankaccount(5000)\n",
    "yogesh.deposit(3000)\n",
    "\n",
    "print(yogesh.withdraw(5000))\n",
    "yogesh.get_balance()\n"
   ]
  },
  {
   "cell_type": "markdown",
   "metadata": {},
   "source": [
    "Q3. What is abc module in python? Why is it used?"
   ]
  },
  {
   "cell_type": "markdown",
   "metadata": {},
   "source": [
    "The abc module in Python stands for \"Abstract Base Classes.\" It provides a mechanism for defining abstract base classes in Python and is part of the standard library. Abstract base classes (ABCs) are classes that cannot be instantiated themselves but can be subclassed by other classes.\n",
    "\n",
    "we import abs module while performing abstraction in our code.here we use abs decorator abustractmethod for defining function."
   ]
  },
  {
   "cell_type": "markdown",
   "metadata": {},
   "source": [
    "Q5. How can we achieve data abstraction?"
   ]
  },
  {
   "cell_type": "markdown",
   "metadata": {},
   "source": [
    "Abstraction means hiding the irrelevant information and showing the essential informationt to the user.\n",
    "\n",
    "It can be achieved in creating skeleton of the code and that can be used in the program using inheritance(inheriting the class).For performing Abstraction we have to import abc and have to use decorator like abstractmethod."
   ]
  },
  {
   "cell_type": "code",
   "execution_count": 8,
   "metadata": {},
   "outputs": [
    {
     "name": "stdout",
     "output_type": "stream",
     "text": [
      "model:  od\n",
      "Year:  2023\n",
      "color:  yellow\n"
     ]
    }
   ],
   "source": [
    "import abc\n",
    "class car:\n",
    "    def __init__(self,model,color,year):\n",
    "        self.model=model\n",
    "        self.color=color\n",
    "        self.year=year\n",
    "    @abc.abstractmethod\n",
    "    def details(self):\n",
    "        pass\n",
    "    @abc.abstractmethod\n",
    "    def function(self):\n",
    "        pass\n",
    "class od(car):\n",
    "    def details(self):\n",
    "        print (\"model: \",self.model)\n",
    "        print(\"Year: \",self.year)\n",
    "        print(\"color: \",self.color)\n",
    "    def function(self):\n",
    "        return \"Open Roof\"\n",
    "od1=od(\"od\",\"yellow\",\"2023\")\n",
    "od1.details()"
   ]
  },
  {
   "cell_type": "markdown",
   "metadata": {},
   "source": [
    "Q5. Can we create an instance of an abstract class? Explain your answer."
   ]
  },
  {
   "cell_type": "markdown",
   "metadata": {},
   "source": [
    "No, you cannot create an instance of an abstract class in Python. Abstract classes are meant to be incomplete and serve as a blueprint for other classes to inherit from. They typically contain one or more abstract methods, which are methods without an implementation in the abstract class itself. Abstract methods must be implemented by non-abstract subclasses."
   ]
  }
 ],
 "metadata": {
  "kernelspec": {
   "display_name": "Python 3",
   "language": "python",
   "name": "python3"
  },
  "language_info": {
   "codemirror_mode": {
    "name": "ipython",
    "version": 3
   },
   "file_extension": ".py",
   "mimetype": "text/x-python",
   "name": "python",
   "nbconvert_exporter": "python",
   "pygments_lexer": "ipython3",
   "version": "3.11.7"
  }
 },
 "nbformat": 4,
 "nbformat_minor": 2
}
